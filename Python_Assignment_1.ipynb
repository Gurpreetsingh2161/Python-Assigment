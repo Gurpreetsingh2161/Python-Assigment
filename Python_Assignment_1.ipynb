{
 "cells": [
  {
   "cell_type": "code",
   "execution_count": 1,
   "id": "8ddc3791-ef9f-41c6-90f5-828b8447c54f",
   "metadata": {},
   "outputs": [],
   "source": [
    "#PYTHON ASSIGNMENT 1\n",
    "#Part 1 Introduction to Python"
   ]
  },
  {
   "cell_type": "markdown",
   "id": "90dc6729-fb10-419b-8978-fe2c9dd0121b",
   "metadata": {},
   "source": [
    "**Question 1**\n",
    "\n",
    "![label1](./picc.png)"
   ]
  },
  {
   "cell_type": "code",
   "execution_count": 3,
   "id": "91109cff-d48c-418c-a569-a95406ae5d57",
   "metadata": {},
   "outputs": [
    {
     "name": "stdout",
     "output_type": "stream",
     "text": [
      "Name:Gurpreet Singh\n",
      "Course Name:MCA\n",
      "Python Version:3.12.4 (tags/v3.12.4:8e8a4ba, Jun  6 2024, 19:30:16) [MSC v.1940 64 bit (AMD64)]\n"
     ]
    }
   ],
   "source": [
    "#Ouestion 1\n",
    "\n",
    "import sys\n",
    "#Define the details\n",
    "name = \"Gurpreet Singh\"\n",
    "coursename = \"MCA\"\n",
    "pythonversion = sys.version\n",
    "# Print the details\n",
    "print(f\"Name:{name}\")\n",
    "print(f\"Course Name:{coursename}\")\n",
    "print(f\"Python Version:{pythonversion}\")"
   ]
  },
  {
   "cell_type": "code",
   "execution_count": 5,
   "id": "d1a58cac-e1b3-42aa-8adb-e4356d388b18",
   "metadata": {},
   "outputs": [
    {
     "name": "stdout",
     "output_type": "stream",
     "text": [
      "Hello , Python world!\n"
     ]
    }
   ],
   "source": [
    "#Question 2\n",
    "\n",
    "script=\"Hello , Python world!\" #Declaring script\n",
    "print(script) #printing script"
   ]
  },
  {
   "cell_type": "code",
   "execution_count": 6,
   "id": "c31f6036-b755-4d23-82fa-c5e4375fa932",
   "metadata": {},
   "outputs": [],
   "source": [
    "# Part 2 Basic Python Syntax"
   ]
  },
  {
   "cell_type": "code",
   "execution_count": 7,
   "id": "ab0736ec-270c-4da4-9a47-12448a15131e",
   "metadata": {},
   "outputs": [
    {
     "name": "stdin",
     "output_type": "stream",
     "text": [
      "Input your First Name :  Gurpreet\n",
      "Input your Last Name :  Singh\n"
     ]
    },
    {
     "name": "stdout",
     "output_type": "stream",
     "text": [
      "hgniS teerpruG\n"
     ]
    }
   ],
   "source": [
    "# Question 1\n",
    "#taking the input from the user for first name and store it in the 'first_name' variable\n",
    "first_name = input(\"Input your First Name : \")\n",
    "#taking input for last name and store it in the 'last_name' variable\n",
    "last_name = input(\"Input your Last Name : \")\n",
    "#Display a message with the last name followed by the first name in reverse using slicing method\n",
    "full_name =first_name + \" \" + last_name\n",
    "print(full_name[ : :-1])"
   ]
  },
  {
   "cell_type": "code",
   "execution_count": 9,
   "id": "bb03e8d4-caf3-46ac-9587-2b2fdd325ecd",
   "metadata": {},
   "outputs": [
    {
     "name": "stdin",
     "output_type": "stream",
     "text": [
      "Enter a number: 20\n"
     ]
    },
    {
     "name": "stdout",
     "output_type": "stream",
     "text": [
      "Data type of num after Type Casting: <class 'int'> 20\n",
      "Data type of num after Type Casting: <class 'float'> 20.0\n",
      "Data type of num after Type Casting: <class 'complex'> (20+0j)\n"
     ]
    }
   ],
   "source": [
    "#Question 2\n",
    "num=int(input(\"Enter a number:\")) #Taking input number from user and storing it in variable num\n",
    "num_int= int(num) #Converting num into integer type\n",
    "num_float=float(num) #Converting num into float type\n",
    "num_complex=complex(num) #Converting num into complex type \n",
    "print(\"Data type of num after Type Casting:\",type(num_int) , num_int)\n",
    "print(\"Data type of num after Type Casting:\",type(num_float) , num_float)\n",
    "print(\"Data type of num after Type Casting:\",type(num_complex), num_complex)\n",
    "\n",
    "#Integer-Represents whole numbers without a fractional part\n",
    "#Float-Represents real numbers that include a fractional part\n",
    "#Complex-Represents numbers with a real and an imaginary part"
   ]
  },
  {
   "cell_type": "code",
   "execution_count": 11,
   "id": "849c815d-acda-43ab-9438-6259221d7508",
   "metadata": {},
   "outputs": [
    {
     "name": "stdin",
     "output_type": "stream",
     "text": [
      "Enter length=  20\n",
      "Enter width=  10\n"
     ]
    },
    {
     "name": "stdout",
     "output_type": "stream",
     "text": [
      "Rectangle area =  200\n"
     ]
    }
   ],
   "source": [
    "#Question 3\n",
    "#taking input in length variable \n",
    "length=int(input(\"Enter length= \"))\n",
    "#taking input in breadth variable\n",
    "breadth=int(input(\"Enter width= \"))\n",
    "#calculating and storing area of rectangle in variable area\n",
    "area=length*breadth\n",
    "print(\"Rectangle area = \",area)"
   ]
  },
  {
   "cell_type": "code",
   "execution_count": 12,
   "id": "c197960c-6b2b-43a3-9c49-2e6ed01b9b74",
   "metadata": {},
   "outputs": [
    {
     "name": "stdout",
     "output_type": "stream",
     "text": [
      "The area of the rectangle is: 200.00\n"
     ]
    }
   ],
   "source": [
    "#Question 4\n",
    "#Displaying the result using the print function and format method to get output in two decimal places\n",
    "print(\"The area of the rectangle is: {:.2f}\".format(area))"
   ]
  },
  {
   "cell_type": "code",
   "execution_count": 14,
   "id": "8365ba29-3c3b-4f01-8c31-f80aa80f136a",
   "metadata": {},
   "outputs": [
    {
     "name": "stdin",
     "output_type": "stream",
     "text": [
      "Enter the first number:  40\n",
      "Enter the second number:  50\n",
      "Enter the third number:  90\n"
     ]
    },
    {
     "name": "stdout",
     "output_type": "stream",
     "text": [
      "The average of the three numbers is: 60.00\n"
     ]
    }
   ],
   "source": [
    "#Question 5\n",
    "#Taking inputs from the user to enter three numbers\n",
    "num1=float(input(\"Enter the first number: \"))\n",
    "num2=float(input(\"Enter the second number: \"))\n",
    "num3=float(input(\"Enter the third number: \"))\n",
    "#Calculating the average\n",
    "average = (num1 + num2 + num3) / 3\n",
    "#Display the result using the % formatting method\n",
    "print(\"The average of the three numbers is: %.2f\" % average)"
   ]
  },
  {
   "cell_type": "code",
   "execution_count": 15,
   "id": "bcc68fc2-64ff-4498-ae2e-bde889312811",
   "metadata": {},
   "outputs": [],
   "source": [
    "#Part 3 Language Components"
   ]
  },
  {
   "cell_type": "code",
   "execution_count": 16,
   "id": "2274419c-92b5-4804-8268-a6743391246d",
   "metadata": {},
   "outputs": [
    {
     "name": "stdin",
     "output_type": "stream",
     "text": [
      "Enter a number (or type 'exit' to quit):  20\n"
     ]
    },
    {
     "name": "stdout",
     "output_type": "stream",
     "text": [
      "The number is positive.\n"
     ]
    },
    {
     "name": "stdin",
     "output_type": "stream",
     "text": [
      "Enter a number (or type 'exit' to quit):  -2\n"
     ]
    },
    {
     "name": "stdout",
     "output_type": "stream",
     "text": [
      "The number is negative.\n"
     ]
    },
    {
     "name": "stdin",
     "output_type": "stream",
     "text": [
      "Enter a number (or type 'exit' to quit):  0\n"
     ]
    },
    {
     "name": "stdout",
     "output_type": "stream",
     "text": [
      "The number is zero.\n"
     ]
    },
    {
     "name": "stdin",
     "output_type": "stream",
     "text": [
      "Enter a number (or type 'exit' to quit):  exit\n"
     ]
    }
   ],
   "source": [
    "#Question 1\n",
    "while True:\n",
    "    user_input = input(\"Enter a number (or type 'exit' to quit): \")\n",
    "    #Check if the user wants to exit\n",
    "    if user_input.lower() == 'exit':\n",
    "        break\n",
    "    #Convert input to a number\n",
    "    try:\n",
    "        number = float(user_input)\n",
    "        #Determine if the number is positive, negative, or zero\n",
    "        if number > 0:\n",
    "            print(\"The number is positive.\")\n",
    "        elif number < 0:\n",
    "            print(\"The number is negative.\")\n",
    "        else:\n",
    "            print(\"The number is zero.\")\n",
    "    except ValueError:\n",
    "        print(\"Please enter a valid number or 'exit' to quit.\")\n",
    "    continue  #Prompt for a new number if input is not 'exit'"
   ]
  },
  {
   "cell_type": "code",
   "execution_count": 17,
   "id": "d5043a33-18e0-457b-a2f1-41e3506fe5e6",
   "metadata": {},
   "outputs": [
    {
     "name": "stdin",
     "output_type": "stream",
     "text": [
      "Enter the first number:  60\n",
      "Enter the second number:  22\n"
     ]
    },
    {
     "name": "stdout",
     "output_type": "stream",
     "text": [
      "Both numbers are even.\n"
     ]
    }
   ],
   "source": [
    "#Question 2\n",
    "#Input two numbers from the user\n",
    "first_number = int(input(\"Enter the first number: \"))\n",
    "second_number = int(input(\"Enter the second number: \"))\n",
    "#Check whether both numbers are even, odd, or one of each using relational and logical operator\n",
    "if first_number % 2 == 0 and second_number % 2 == 0:\n",
    "    print(\"Both numbers are even.\")\n",
    "elif first_number % 2 != 0 and second_number % 2 != 0:\n",
    "    print(\"Both numbers are odd.\")\n",
    "else:\n",
    "    print(\"One number is even and the other is odd.\")"
   ]
  },
  {
   "cell_type": "code",
   "execution_count": 18,
   "id": "64c734a6-46ce-406e-87f0-37454166723c",
   "metadata": {},
   "outputs": [
    {
     "name": "stdin",
     "output_type": "stream",
     "text": [
      "Enter an integer:  21\n"
     ]
    },
    {
     "name": "stdout",
     "output_type": "stream",
     "text": [
      "Binary: 10101\n",
      "Octal: 12\n",
      "Hexadecimal: 15\n"
     ]
    }
   ],
   "source": [
    "#Question 3\n",
    "#Function to convert a number to binary, octal, and hexadecimal using bitwise operations\n",
    "def convert_number(num):\n",
    "    #Binary conversion\n",
    "    binary = ''\n",
    "    for i in range(num.bit_length(), -1, -1):\n",
    "        binary += '1' if (num >> i) & 1 else '0'\n",
    "    binary = binary.lstrip('0') or '0'  #Remove leading zeros\n",
    "    #Octal conversion\n",
    "    octal = ''\n",
    "    for i in range(num.bit_length() - 1, -1, -3):  #Group by 3 bits for octal\n",
    "        octal_digit = (num >> i) & 7  #Extract 3 bits at a time\n",
    "        octal += str(octal_digit)\n",
    "    octal = octal.lstrip('0') or '0'  #Remove leading zeros\n",
    "    #Hexadecimal conversion\n",
    "    hex_digits = \"0123456789ABCDEF\"\n",
    "    hexadecimal = ''\n",
    "    for i in range(num.bit_length() - 1, -1, -4):  #Group by 4 bits for hexadecimal\n",
    "        hex_digit = (num >> i) & 15  #Extract 4 bits at a time\n",
    "        hexadecimal += hex_digits[hex_digit]\n",
    "    hexadecimal = hexadecimal.lstrip('0') or '0'  #Remove leading zeros\n",
    "    print(f\"Binary: {binary}\")\n",
    "    print(f\"Octal: {octal}\")\n",
    "    print(f\"Hexadecimal: {hexadecimal}\")\n",
    "#Take integer input from the user\n",
    "number = int(input(\"Enter an integer: \"))\n",
    "convert_number(number)"
   ]
  },
  {
   "cell_type": "code",
   "execution_count": null,
   "id": "b9695cfc-6eca-40f1-bd26-e9f71fb3f649",
   "metadata": {},
   "outputs": [],
   "source": []
  }
 ],
 "metadata": {
  "kernelspec": {
   "display_name": "Python 3 (ipykernel)",
   "language": "python",
   "name": "python3"
  },
  "language_info": {
   "codemirror_mode": {
    "name": "ipython",
    "version": 3
   },
   "file_extension": ".py",
   "mimetype": "text/x-python",
   "name": "python",
   "nbconvert_exporter": "python",
   "pygments_lexer": "ipython3",
   "version": "3.12.4"
  }
 },
 "nbformat": 4,
 "nbformat_minor": 5
}
