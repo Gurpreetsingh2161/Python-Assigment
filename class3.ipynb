{
 "cells": [
  {
   "cell_type": "code",
   "execution_count": 1,
   "id": "b42bf9f2-a951-44d1-aafc-65396a6f0fda",
   "metadata": {},
   "outputs": [],
   "source": [
    "#write a function to add 2 variables and return result"
   ]
  },
  {
   "cell_type": "code",
   "execution_count": 2,
   "id": "1e52f259-b9d6-4318-b554-96c53c914cbe",
   "metadata": {},
   "outputs": [
    {
     "name": "stdout",
     "output_type": "stream",
     "text": [
      "6\n"
     ]
    }
   ],
   "source": [
    "def add(a,b):\n",
    "    sum=a+b\n",
    "    print(sum)\n",
    "add(2,4)"
   ]
  },
  {
   "cell_type": "code",
   "execution_count": 3,
   "id": "5f4f2068-0edd-47e0-8e14-70ffe370e576",
   "metadata": {},
   "outputs": [
    {
     "name": "stdout",
     "output_type": "stream",
     "text": [
      "151\n"
     ]
    }
   ],
   "source": [
    "def add(a,b,c,d,e):\n",
    "    sum=a+b+c+d+e\n",
    "    print(sum)\n",
    "add(2,4,70,14,61)"
   ]
  },
  {
   "cell_type": "code",
   "execution_count": 5,
   "id": "2d6e3086-ebf7-475e-8c6f-62107f7aae63",
   "metadata": {},
   "outputs": [
    {
     "name": "stdout",
     "output_type": "stream",
     "text": [
      "21\n"
     ]
    }
   ],
   "source": [
    "def add(a,b,c=0,d=0,e=0):\n",
    "    sum=a+b+c+d+e\n",
    "    print(sum)\n",
    "add(2,4,5,10)"
   ]
  },
  {
   "cell_type": "code",
   "execution_count": 8,
   "id": "d817fc1f-c7cd-4bb1-90cd-702e6ee9006c",
   "metadata": {},
   "outputs": [
    {
     "name": "stdout",
     "output_type": "stream",
     "text": [
      "(70, 14, 61)\n",
      "151\n"
     ]
    }
   ],
   "source": [
    "def add(a,b,*args): #args makes an array of the extra inputs\n",
    "    print(args)\n",
    "    sum=a+b\n",
    "    for i in args:\n",
    "        sum=sum+i\n",
    "    print(sum)\n",
    "add(2,4,70,14,61)"
   ]
  },
  {
   "cell_type": "code",
   "execution_count": 11,
   "id": "3c6afcfa-ee9b-4f40-bcf2-e2812e27676c",
   "metadata": {},
   "outputs": [
    {
     "name": "stdout",
     "output_type": "stream",
     "text": [
      "Hi Gurpreet how are you?\n"
     ]
    }
   ],
   "source": [
    "def sentence(bane, message):\n",
    "    print(f\"Hi {name} {message}\")\n",
    "name=\"Gurpreet\"\n",
    "message=\"how are you?\"\n",
    "sentence(name,message)"
   ]
  },
  {
   "cell_type": "code",
   "execution_count": null,
   "id": "f2dea900-e896-4334-acd6-bf10c0385a40",
   "metadata": {},
   "outputs": [],
   "source": []
  }
 ],
 "metadata": {
  "kernelspec": {
   "display_name": "Python 3 (ipykernel)",
   "language": "python",
   "name": "python3"
  },
  "language_info": {
   "codemirror_mode": {
    "name": "ipython",
    "version": 3
   },
   "file_extension": ".py",
   "mimetype": "text/x-python",
   "name": "python",
   "nbconvert_exporter": "python",
   "pygments_lexer": "ipython3",
   "version": "3.12.4"
  }
 },
 "nbformat": 4,
 "nbformat_minor": 5
}
